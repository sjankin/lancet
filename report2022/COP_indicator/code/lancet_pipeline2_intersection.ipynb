{
 "cells": [
  {
   "cell_type": "code",
   "execution_count": 1,
   "metadata": {
    "colab": {
     "base_uri": "https://localhost:8080/"
    },
    "executionInfo": {
     "elapsed": 810,
     "status": "ok",
     "timestamp": 1644716665566,
     "user": {
      "displayName": "zz rr",
      "photoUrl": "https://lh3.googleusercontent.com/a/default-user=s64",
      "userId": "11815901365584268828"
     },
     "user_tz": -60
    },
    "id": "fdcDwhXxY1P0",
    "outputId": "bc776f17-99ae-43f6-e233-0ea41335677f"
   },
   "outputs": [],
   "source": [
    "import pandas as pd\n",
    "import numpy as np\n",
    "import os\n",
    "import re, string, timeit\n",
    "import nltk\n",
    "import sys\n",
    "sys.path.append('/workspace/Translation_lancet/')\n",
    "from utils_lancet import *\n",
    "from nltk.corpus import stopwords\n",
    "from multiprocessing import Pool\n",
    "import tqdm\n",
    "import time\n",
    "import re\n",
    "import multiprocessing\n",
    "import pyreadr\n",
    "\n",
    "folder = \"Multiglobal_result/\"# \"English_result/\" # \"EU_result/\" # "
   ]
  },
  {
   "cell_type": "code",
   "execution_count": 2,
   "metadata": {},
   "outputs": [],
   "source": [
    "#with open(\"EU_result/corpus_tokens.txt\", \"r\") as fp:\n",
    " #   corpus = json.load(fp)"
   ]
  },
  {
   "cell_type": "code",
   "execution_count": 2,
   "metadata": {},
   "outputs": [],
   "source": [
    "df_kwic = pd.read_pickle(folder + 'df_kwic_health.pkl')"
   ]
  },
  {
   "cell_type": "code",
   "execution_count": 4,
   "metadata": {
    "scrolled": true
   },
   "outputs": [
    {
     "name": "stderr",
     "output_type": "stream",
     "text": [
      "100%|██████████| 173436/173436 [02:45<00:00, 1045.69it/s]\n",
      "100%|██████████| 173436/173436 [02:43<00:00, 1057.92it/s]\n",
      "100%|██████████| 173435/173435 [02:46<00:00, 1040.37it/s]\n",
      "100%|██████████| 173435/173435 [02:39<00:00, 1086.24it/s]\n",
      "100%|██████████| 173435/173435 [02:42<00:00, 1065.50it/s]\n"
     ]
    }
   ],
   "source": [
    "climate_dict = [\"climate_change\", \"changing_climate\", \"climate_emergency\", \"climate_crisis\", \n",
    "                \"climate_decay\", \"global_warming\",\"green_house\", \"temperature\", \"extreme_weather\",\n",
    "                \"global_environmental_change\", \"climate_variability\", \"greenhouse\", \n",
    "                \"greenhouse-gas\", \"low_carbon\", \"ghge\", \"ghges\", \"renewable_energy\", \n",
    "                \"carbon_emission\", \"carbon_emissions\", \"carbon_dioxide\", \"carbon-dioxide\",\n",
    "                \"co2_emission\", \"co2_emissions\", \"climate_pollutant\", \"climate_pollutants\", \n",
    "                \"decarbonization\", \"decarbonisation\", \"carbon_neutral\", \"carbon-neutral\", \n",
    "                \"carbon_neutrality\", \"climate_neutrality\", \"climate_action\", \"net-zero\", \"net_zero\", 'carbonemission', \"carbonemissions\"]\n",
    "\n",
    "compoundlist = [\"air pollution\", \"mental disorder\", \"mental disorders\", \"climate change\", \"changing climate\", \"climate emergency\", \n",
    "          \"climate crisis\", \"climate decay\", \"global warming\", \"green house\", \"extreme weather\", \"global environmental change\", \n",
    "          \"climate variability\",  \"low carbon\", \"renewable energy\", \"carbon emission\", \"carbon emissions\", \"carbon dioxide\", \n",
    "          \"co2 emission\", \"co2 emissions\", \"climate pollutant\", \"climate pollutants\", \"carbon neutral\", \"carbon neutrality\", \n",
    "          \"climate neutrality\", \"climate action\", \"net zero\", \"covid 19\", \"corona virus\", \"sars cov 2\"]\n",
    "\n",
    "\n",
    "def kwic_df_search(row, search_list = climate_dict,):\n",
    "    _, row = row\n",
    "    corpus = \" \".join ([str(row[\"left\"]), str(row[\"right\"])])\n",
    "    kwic_health_climate = KWIC(search_list = search_list, corpus = corpus.split(), id_ = row.Id, compound_list = compoundlist, )\n",
    "    kwic_df, _ = kwic_health_climate.kwic_search(window = 25,)\n",
    "    kwic_df[\"health_key\"] = row.key_word \n",
    "    kwic_df[\"old_index\"] = row.token_index \n",
    "    return kwic_df\n",
    "    \n",
    "test = False\n",
    "res = []\n",
    "\n",
    "start = 0\n",
    "cores = multiprocessing.cpu_count()\n",
    "for df in np.array_split(df_kwic, 5):\n",
    "    if __name__ == '__main__':\n",
    "        with Pool(cores) as p:\n",
    "            if test == True:\n",
    "                df = df.iloc[:5]\n",
    "            r = list(tqdm.tqdm(p.imap(kwic_df_search, df.iterrows()), total = len(df)))\n",
    "            res.append(r)\n",
    "            start=+1\n",
    "            #break"
   ]
  },
  {
   "cell_type": "code",
   "execution_count": 5,
   "metadata": {},
   "outputs": [],
   "source": [
    "r_concat = [s for i in res for s in i]"
   ]
  },
  {
   "cell_type": "code",
   "execution_count": 6,
   "metadata": {},
   "outputs": [],
   "source": [
    "res = pd.concat(r_concat)  "
   ]
  },
  {
   "cell_type": "code",
   "execution_count": 7,
   "metadata": {
    "scrolled": false
   },
   "outputs": [],
   "source": [
    "res.to_csv(folder + 'df_kwic_health_climate.csv')"
   ]
  },
  {
   "cell_type": "code",
   "execution_count": 8,
   "metadata": {},
   "outputs": [],
   "source": [
    "intersection = pd.read_csv(folder + 'df_kwic_health_climate.csv')"
   ]
  },
  {
   "cell_type": "code",
   "execution_count": 9,
   "metadata": {},
   "outputs": [],
   "source": [
    "# corss gender and covid\n",
    "\n",
    "# covid dictionary\n",
    "covid_dict = [\"covid-19\", \"covid19\", \"covid_19\", \"corona\", \"corona_virus\", \"sars-cov-2\", \"covid\", \"coronavirus\"]\n",
    "\n",
    "# gender dictionary\n",
    "gender_dict = [\"gender\", \"male\", \"female\", \"man\", \"men\", \"woman\", \"women\", \"sex\"]"
   ]
  },
  {
   "cell_type": "code",
   "execution_count": 14,
   "metadata": {},
   "outputs": [
    {
     "name": "stderr",
     "output_type": "stream",
     "text": [
      "100%|██████████| 29407/29407 [00:29<00:00, 988.95it/s] \n"
     ]
    }
   ],
   "source": [
    "def kwic_df_search(row, search_list = gender_dict,):\n",
    "    _, row = row\n",
    "    corpus = \" \".join ([str(row[\"left\"]), str(row[\"right\"])])\n",
    "    kwic_health_climate = KWIC(search_list = search_list, corpus = corpus.split(), id_ = row.Id, compound_list = compoundlist, )\n",
    "    kwic_df, _ = kwic_health_climate.kwic_search(window = 25,)\n",
    "    kwic_df[\"climate_key\"] = row.key_word \n",
    "    kwic_df[\"health_key\"] = row.health_key\n",
    "    kwic_df[\"old_index\"] = row.token_index \n",
    "    return kwic_df\n",
    "\n",
    "test = False\n",
    "\n",
    "cores = multiprocessing.cpu_count()\n",
    "df = intersection[[\"left\", \"right\", \"Id\", \"old_index\", \"health_key\", \"key_word\", \"token_index\"]]\n",
    "if __name__ == '__main__':\n",
    "    with Pool(cores) as p:\n",
    "        if test == True:\n",
    "            df = df.iloc[:500]\n",
    "        r = list(tqdm.tqdm(p.imap(kwic_df_search, df.iterrows()), total = len(df)))\n",
    "        res = pd.concat(r)  "
   ]
  },
  {
   "cell_type": "code",
   "execution_count": 17,
   "metadata": {},
   "outputs": [],
   "source": [
    "res.to_csv(folder + \"gender.csv\", index = False)\n",
    "#res.to_csv(folder + \"covid.csv\", index = False)"
   ]
  },
  {
   "cell_type": "code",
   "execution_count": null,
   "metadata": {},
   "outputs": [],
   "source": []
  }
 ],
 "metadata": {
  "colab": {
   "authorship_tag": "ABX9TyMKMG6wrZYgYOUvdYJX8kQf",
   "collapsed_sections": [],
   "mount_file_id": "14Zu0BSy6YD7iuyv3N-qj4YqqhnuVbeLU",
   "name": "lancet_pipeline.ipynb",
   "provenance": []
  },
  "kernelspec": {
   "display_name": "Python 3",
   "language": "python",
   "name": "python3"
  },
  "language_info": {
   "codemirror_mode": {
    "name": "ipython",
    "version": 3
   },
   "file_extension": ".py",
   "mimetype": "text/x-python",
   "name": "python",
   "nbconvert_exporter": "python",
   "pygments_lexer": "ipython3",
   "version": "3.6.9"
  }
 },
 "nbformat": 4,
 "nbformat_minor": 1
}
